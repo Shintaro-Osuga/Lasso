{
  "nbformat": 4,
  "nbformat_minor": 0,
  "metadata": {
    "colab": {
      "provenance": [],
      "authorship_tag": "ABX9TyPpI1yw+pJFhR4NnMtepnot",
      "include_colab_link": true
    },
    "kernelspec": {
      "name": "python3",
      "display_name": "Python 3"
    },
    "language_info": {
      "name": "python"
    }
  },
  "cells": [
    {
      "cell_type": "markdown",
      "metadata": {
        "id": "view-in-github",
        "colab_type": "text"
      },
      "source": [
        "<a href=\"https://colab.research.google.com/github/Shintaro-Osuga/Lasso/blob/main/Lasso.ipynb\" target=\"_parent\"><img src=\"https://colab.research.google.com/assets/colab-badge.svg\" alt=\"Open In Colab\"/></a>"
      ]
    },
    {
      "cell_type": "code",
      "execution_count": null,
      "metadata": {
        "id": "joPweO0Jvfxh"
      },
      "outputs": [],
      "source": [
        "from numpy.core.fromnumeric import shape\n",
        "import numpy as np\n",
        "import copy\n",
        "def lasso_solver(X, y, beta_init, penalty, tol):\n",
        "    '''\n",
        "    Solve the Lasso equations using coordinate descent.\n",
        "    Parameters:\n",
        "    X (np.ndarray, ndim=2): n x d data matrix without extra column of 1s\n",
        "    y (np.ndarray, ndim=1): n x 1 label vector\n",
        "    beta_init (np.ndarray, ndim=1): (d + 1) x 1 initial guess\n",
        "    penalty (float): Lasso penalty >= 0, lambda in our math\n",
        "    tol (float): convergence tolerance >= 0, delta in our math \n",
        "    Returns:\n",
        "    beta (np.ndarray, ndim=1): (d + 1) x 1 solution\n",
        "    '''\n",
        "    assert penalty >= 0, \"penalty should be >= 0\"\n",
        "    assert tol >= 0, \"tolerance should be >= 0\"\n",
        "    n, d = X.shape\n",
        "    beta = beta_init\n",
        "    converged = False\n",
        "\n",
        "    # l_max = np.amax(X.T @ y)/n # to implement simplified given l_max equation\n",
        "\n",
        "    # if penalty >= l_max:\n",
        "    #     return np.append(np.mean(y), np.zeros((n - 1)))\n",
        "\n",
        "    iter = 0\n",
        "    while not converged:\n",
        "        beta_0 = np.mean(y-X@beta)\n",
        "        beta_old = beta.copy()\n",
        "        a_i = 2*np.sum(X**2,axis=0)\n",
        "        for i in range(1,d):\n",
        "          beta_1 = beta.copy()\n",
        "          beta_1[i]=0\n",
        "          # ein = np.einsum(\"ij,j...\", X,beta_1).reshape(len(X))\n",
        "          # jein = (y.reshape(len(y))-beta_0-ein)\n",
        "          # # b_i = np.einsum(\"...j,j...\",X.T[i],jein)\n",
        "          # b_i = 2*np.dot(X[:,i].T,jein)\n",
        "          \n",
        "          b_i = 2 * (X[:,i]@y - np.sum(X[:,i])*beta_0 - (X[:,i].T@X@beta_1))\n",
        "          \n",
        "          beta[i] = update(b_i/a_i[i], penalty)\n",
        "        if np.linalg.norm(beta_old-beta,np.inf) <= tol:\n",
        "            converged = True\n",
        "            break\n",
        "    return np.concatenate((beta_0.reshape(1), beta), axis=0)"
      ]
    },
    {
      "cell_type": "code",
      "source": [
        "def lasso_solver_opt(X, y, beta_init, penalty, tol):\n",
        "    '''\n",
        "    Solve the Lasso equations using coordinate descent.\n",
        "    Parameters:\n",
        "    X (np.ndarray, ndim=2): n x d data matrix without extra column of 1s\n",
        "    y (np.ndarray, ndim=1): n x 1 label vector\n",
        "    beta_init (np.ndarray, ndim=1): (d + 1) x 1 initial guess\n",
        "    penalty (float): Lasso penalty >= 0, lambda in our math\n",
        "    tol (float): convergence tolerance >= 0, delta in our math \n",
        "    Returns:\n",
        "    beta (np.ndarray, ndim=1): (d + 1) x 1 solution\n",
        "    '''\n",
        "    assert penalty >= 0, \"penalty should be >= 0\"\n",
        "    assert tol >= 0, \"tolerance should be >= 0\"\n",
        "    n, d = X.shape\n",
        "    beta = beta_init\n",
        "    converged = False\n",
        "\n",
        "    # l_max = np.amax(X.T @ y)/n # to implement simplified given l_max equation\n",
        "\n",
        "    # if penalty >= l_max:\n",
        "    #     return np.append(np.mean(y), np.zeros((n - 1)))\n",
        "\n",
        "    iter = 0\n",
        "    while not converged:\n",
        "        beta_0 = np.mean(y-X@beta)\n",
        "        beta_old = beta.copy()\n",
        "        a_i = 2*np.sum(X**2,axis=0)\n",
        "        for i in range(d):\n",
        "          # beta_1 = beta.copy()\n",
        "          z_one = np.zeros(len(beta)).reshape(len(beta))\n",
        "          z_one[i]=beta[i]\n",
        "          # beta[i]=0\n",
        "          ein = np.einsum(\"ij,j...\", X,beta_1).reshape(len(X))\n",
        "          jein = (y.reshape(len(y))-beta_0-ein)\n",
        "          # b_i = np.einsum(\"...j,j...\",X.T[i],jein)\n",
        "          b_i = 2*np.dot(X[:,i].T,jein)\n",
        "          \n",
        "          b_i = 2 * (X[:,i]@y - np.sum(X[:,i])*beta_0 - (X[:,i].T@X@(beta-z_one)))\n",
        "          \n",
        "          beta[i] = update(b_i/a_i[i], penalty)\n",
        "        if np.linalg.norm(beta_old-beta,np.inf) <= tol:\n",
        "            converged = True\n",
        "            break\n",
        "    return beta"
      ],
      "metadata": {
        "id": "MEJNqM0bJs41"
      },
      "execution_count": null,
      "outputs": []
    },
    {
      "cell_type": "code",
      "source": [
        "def update(z, penalty):\n",
        "  if z < -(penalty):\n",
        "    return z + penalty\n",
        "  elif z > penalty:\n",
        "    return z - penalty\n",
        "  else:\n",
        "    return 0"
      ],
      "metadata": {
        "id": "op70o-Ra8I0T"
      },
      "execution_count": null,
      "outputs": []
    },
    {
      "cell_type": "code",
      "source": [
        "def synth_data(n,d,k,s):\n",
        "  X = np.random.randn(n,d)\n",
        "  w = np.random.randn(d,1)\n",
        "  epsilon = np.random.randn(n,1)*s\n",
        "  k = k\n",
        "  for j in range(len(w)):\n",
        "    if j <= k:\n",
        "      w[j] = j/k\n",
        "    else:\n",
        "      w[j] = 0\n",
        "  y = X@w + epsilon\n",
        "  beta_init = np.zeros(d)\n",
        "  return X, y, beta_init, w"
      ],
      "metadata": {
        "id": "_5Ip5UG6FzGg"
      },
      "execution_count": null,
      "outputs": []
    },
    {
      "cell_type": "code",
      "source": [
        "X,y,beta_init,w = synth_data(500,1000,100,1)"
      ],
      "metadata": {
        "id": "rcHa63KVDC4y"
      },
      "execution_count": null,
      "outputs": []
    },
    {
      "cell_type": "code",
      "source": [
        "import time\n",
        "\n",
        "start = time.time()\n",
        "olasso = lasso_solver_opt(X,y,beta_init, 0.1,0.0000001)\n",
        "end = time.time()\n",
        "print(\"optimized lasso time : \", end-start)\n",
        "\n",
        "print(\"mean square error: \", np.sqrt(np.linalg.norm(olasso-nlasso,0))/1000)"
      ],
      "metadata": {
        "id": "JLnpU5lnKfFB",
        "colab": {
          "base_uri": "https://localhost:8080/",
          "height": 371
        },
        "outputId": "ebb2a0c1-f752-4f98-edaf-d1127363baae"
      },
      "execution_count": null,
      "outputs": [
        {
          "output_type": "error",
          "ename": "NameError",
          "evalue": "ignored",
          "traceback": [
            "\u001b[0;31m---------------------------------------------------------------------------\u001b[0m",
            "\u001b[0;31mNameError\u001b[0m                                 Traceback (most recent call last)",
            "\u001b[0;32m<ipython-input-6-6a343252c942>\u001b[0m in \u001b[0;36m<module>\u001b[0;34m()\u001b[0m\n\u001b[1;32m      2\u001b[0m \u001b[0;34m\u001b[0m\u001b[0m\n\u001b[1;32m      3\u001b[0m \u001b[0mstart\u001b[0m \u001b[0;34m=\u001b[0m \u001b[0mtime\u001b[0m\u001b[0;34m.\u001b[0m\u001b[0mtime\u001b[0m\u001b[0;34m(\u001b[0m\u001b[0;34m)\u001b[0m\u001b[0;34m\u001b[0m\u001b[0;34m\u001b[0m\u001b[0m\n\u001b[0;32m----> 4\u001b[0;31m \u001b[0molasso\u001b[0m \u001b[0;34m=\u001b[0m \u001b[0mlasso_solver_opt\u001b[0m\u001b[0;34m(\u001b[0m\u001b[0mX\u001b[0m\u001b[0;34m,\u001b[0m\u001b[0my\u001b[0m\u001b[0;34m,\u001b[0m\u001b[0mbeta_init\u001b[0m\u001b[0;34m,\u001b[0m \u001b[0;36m0.1\u001b[0m\u001b[0;34m,\u001b[0m\u001b[0;36m0.0000001\u001b[0m\u001b[0;34m)\u001b[0m\u001b[0;34m\u001b[0m\u001b[0;34m\u001b[0m\u001b[0m\n\u001b[0m\u001b[1;32m      5\u001b[0m \u001b[0mend\u001b[0m \u001b[0;34m=\u001b[0m \u001b[0mtime\u001b[0m\u001b[0;34m.\u001b[0m\u001b[0mtime\u001b[0m\u001b[0;34m(\u001b[0m\u001b[0;34m)\u001b[0m\u001b[0;34m\u001b[0m\u001b[0;34m\u001b[0m\u001b[0m\n\u001b[1;32m      6\u001b[0m \u001b[0mprint\u001b[0m\u001b[0;34m(\u001b[0m\u001b[0;34m\"optimized lasso time : \"\u001b[0m\u001b[0;34m,\u001b[0m \u001b[0mend\u001b[0m\u001b[0;34m-\u001b[0m\u001b[0mstart\u001b[0m\u001b[0;34m)\u001b[0m\u001b[0;34m\u001b[0m\u001b[0;34m\u001b[0m\u001b[0m\n",
            "\u001b[0;32m<ipython-input-2-dc5775553625>\u001b[0m in \u001b[0;36mlasso_solver_opt\u001b[0;34m(X, y, beta_init, penalty, tol)\u001b[0m\n\u001b[1;32m     32\u001b[0m           \u001b[0mz_one\u001b[0m\u001b[0;34m[\u001b[0m\u001b[0mi\u001b[0m\u001b[0;34m]\u001b[0m\u001b[0;34m=\u001b[0m\u001b[0mbeta\u001b[0m\u001b[0;34m[\u001b[0m\u001b[0mi\u001b[0m\u001b[0;34m]\u001b[0m\u001b[0;34m\u001b[0m\u001b[0;34m\u001b[0m\u001b[0m\n\u001b[1;32m     33\u001b[0m           \u001b[0;31m# beta[i]=0\u001b[0m\u001b[0;34m\u001b[0m\u001b[0;34m\u001b[0m\u001b[0;34m\u001b[0m\u001b[0m\n\u001b[0;32m---> 34\u001b[0;31m           \u001b[0mein\u001b[0m \u001b[0;34m=\u001b[0m \u001b[0mnp\u001b[0m\u001b[0;34m.\u001b[0m\u001b[0meinsum\u001b[0m\u001b[0;34m(\u001b[0m\u001b[0;34m\"ij,j...\"\u001b[0m\u001b[0;34m,\u001b[0m \u001b[0mX\u001b[0m\u001b[0;34m,\u001b[0m\u001b[0mbeta_1\u001b[0m\u001b[0;34m)\u001b[0m\u001b[0;34m.\u001b[0m\u001b[0mreshape\u001b[0m\u001b[0;34m(\u001b[0m\u001b[0mlen\u001b[0m\u001b[0;34m(\u001b[0m\u001b[0mX\u001b[0m\u001b[0;34m)\u001b[0m\u001b[0;34m)\u001b[0m\u001b[0;34m\u001b[0m\u001b[0;34m\u001b[0m\u001b[0m\n\u001b[0m\u001b[1;32m     35\u001b[0m           \u001b[0mjein\u001b[0m \u001b[0;34m=\u001b[0m \u001b[0;34m(\u001b[0m\u001b[0my\u001b[0m\u001b[0;34m.\u001b[0m\u001b[0mreshape\u001b[0m\u001b[0;34m(\u001b[0m\u001b[0mlen\u001b[0m\u001b[0;34m(\u001b[0m\u001b[0my\u001b[0m\u001b[0;34m)\u001b[0m\u001b[0;34m)\u001b[0m\u001b[0;34m-\u001b[0m\u001b[0mbeta_0\u001b[0m\u001b[0;34m-\u001b[0m\u001b[0mein\u001b[0m\u001b[0;34m)\u001b[0m\u001b[0;34m\u001b[0m\u001b[0;34m\u001b[0m\u001b[0m\n\u001b[1;32m     36\u001b[0m           \u001b[0;31m# b_i = np.einsum(\"...j,j...\",X.T[i],jein)\u001b[0m\u001b[0;34m\u001b[0m\u001b[0;34m\u001b[0m\u001b[0;34m\u001b[0m\u001b[0m\n",
            "\u001b[0;31mNameError\u001b[0m: name 'beta_1' is not defined"
          ]
        }
      ]
    },
    {
      "cell_type": "code",
      "source": [
        "output = lasso_solver(X,y,beta_init,0.1,0.0001)"
      ],
      "metadata": {
        "id": "BTiUOXG84tXa"
      },
      "execution_count": null,
      "outputs": []
    },
    {
      "cell_type": "code",
      "source": [
        "start = time.time()\n",
        "nlasso = lasso_solver(X,y,beta_init,0.1,0.0000001)\n",
        "end = time.time()\n",
        "print(\"original lasso time : \",end-start)"
      ],
      "metadata": {
        "colab": {
          "base_uri": "https://localhost:8080/"
        },
        "id": "9xHPdT2dBWv1",
        "outputId": "237bfc7b-9d17-41a0-9677-5662750daeff"
      },
      "execution_count": null,
      "outputs": [
        {
          "output_type": "stream",
          "name": "stdout",
          "text": [
            "original lasso time :  4.264168977737427\n"
          ]
        }
      ]
    },
    {
      "cell_type": "code",
      "source": [
        "output"
      ],
      "metadata": {
        "id": "LiI7qocBHEb_"
      },
      "execution_count": null,
      "outputs": []
    },
    {
      "cell_type": "markdown",
      "source": [
        "## Problem 3.1\n"
      ],
      "metadata": {
        "id": "p322a-FjOLKF"
      }
    },
    {
      "cell_type": "code",
      "source": [
        "n = 500\n",
        "d = 1000\n",
        "k = 100\n",
        "s = 1\n",
        "\n",
        "X,y,beta_init,w  = synth_data(n,d,k,s)"
      ],
      "metadata": {
        "id": "WNGdAkcHOs1w"
      },
      "execution_count": null,
      "outputs": []
    },
    {
      "cell_type": "code",
      "source": [
        "leave_while = False\n",
        "penalty_exp = 0\n",
        "nonzeros = []\n",
        "lambda_list = []\n",
        "betas = []\n",
        "while not leave_while:\n",
        "  X,y,beta_init,w  = synth_data(n,d,k,s)\n",
        "  l_max = np.amax(X.T @ y)/n\n",
        "  penalty = l_max/(1.5**penalty_exp)\n",
        "  lambda_list.append(penalty)\n",
        "  penalty_exp+=1\n",
        "  betaz = lasso_solver(X,y,beta_init,penalty,0.01)\n",
        "  betas.append(betaz)\n",
        "  num_non = np.linalg.norm(betaz,0)\n",
        "  nonzeros.append(num_non)\n",
        "  if  num_non >= 0.99*d:\n",
        "    leave_while = True\n"
      ],
      "metadata": {
        "id": "KXunqS9YFcMx"
      },
      "execution_count": null,
      "outputs": []
    },
    {
      "cell_type": "code",
      "source": [
        "import matplotlib.pyplot as plt\n",
        "plt.figure(figsize=(15,10))\n",
        "plt.xscale('log')\n",
        "plt.plot(lambda_list,nonzeros)\n",
        "plt.ylabel(\"non-zeros\")\n",
        "plt.xlabel(\"log\")"
      ],
      "metadata": {
        "colab": {
          "base_uri": "https://localhost:8080/",
          "height": 627
        },
        "id": "SMdtQrEzJDzi",
        "outputId": "a497ea99-ce45-4a57-def8-24357a45a5eb"
      },
      "execution_count": null,
      "outputs": [
        {
          "output_type": "execute_result",
          "data": {
            "text/plain": [
              "Text(0.5, 0, 'log')"
            ]
          },
          "metadata": {},
          "execution_count": 12
        },
        {
          "output_type": "display_data",
          "data": {
            "text/plain": [
              "<Figure size 1080x720 with 1 Axes>"
            ],
            "image/png": "[encoded data removed]"
          },
          "metadata": {
            "needs_background": "light"
          }
        }
      ]
    },
    {
      "cell_type": "markdown",
      "source": [
        "## Problem 3.2"
      ],
      "metadata": {
        "id": "iCRbfIMLOQeD"
      }
    },
    {
      "cell_type": "code",
      "source": [
        "FDR = []\n",
        "FDR_p = 0\n",
        "TPR = []\n",
        "TPR_p = 0\n",
        "for i in range(len(betas)):\n",
        "  for j in range(len(betas[0])):\n",
        "    if betas[i][j] != 0 and w[j] == 0:\n",
        "      FDR_p += 1\n",
        "    elif betas[i][j] != 0 and w[j] != 0:\n",
        "      TPR_p += 1\n",
        "  FDR.append(FDR_p/np.linalg.norm(betas[i],0))\n",
        "  print(np.linalg.norm(betas[i],0))\n",
        "  FDR_p = 0\n",
        "  TPR.append(TPR_p/k)\n",
        "  print(TPR_p/k)\n",
        "  TPR_p = 0"
      ],
      "metadata": {
        "id": "1BapFIz6OSUi",
        "colab": {
          "base_uri": "https://localhost:8080/"
        },
        "outputId": "90a4924f-eba1-446d-e68a-39788867ff7f"
      },
      "execution_count": null,
      "outputs": [
        {
          "output_type": "stream",
          "name": "stdout",
          "text": [
            "0.0\n",
            "0.0\n",
            "10.0\n",
            "0.1\n",
            "27.0\n",
            "0.26\n",
            "71.0\n",
            "0.57\n",
            "93.0\n",
            "0.7\n",
            "117.0\n",
            "0.78\n",
            "133.0\n",
            "0.81\n",
            "181.0\n",
            "0.85\n",
            "261.0\n",
            "0.95\n",
            "315.0\n",
            "0.94\n",
            "365.0\n",
            "0.94\n",
            "466.0\n",
            "0.93\n",
            "495.0\n",
            "0.93\n",
            "566.0\n",
            "0.98\n",
            "671.0\n",
            "0.96\n",
            "711.0\n",
            "0.99\n",
            "925.0\n",
            "1.0\n",
            "957.0\n",
            "1.0\n",
            "985.0\n",
            "1.0\n",
            "986.0\n",
            "1.0\n",
            "994.0\n",
            "1.0\n"
          ]
        },
        {
          "output_type": "stream",
          "name": "stderr",
          "text": [
            "/usr/local/lib/python3.7/dist-packages/ipykernel_launcher.py:11: RuntimeWarning: invalid value encountered in double_scalars\n",
            "  # This is added back by InteractiveShellApp.init_path()\n"
          ]
        }
      ]
    },
    {
      "cell_type": "code",
      "source": [
        "color = np.linspace(0,len(FDR),len(TPR))\n",
        "plt.figure(figsize=(15,10))\n",
        "plt.xlim([0,1])\n",
        "plt.ylim([0,1])\n",
        "plt.scatter(FDR, TPR,c=color)\n",
        "plt.xlabel(\"FDR\")\n",
        "plt.ylabel(\"TPR\")"
      ],
      "metadata": {
        "colab": {
          "base_uri": "https://localhost:8080/",
          "height": 628
        },
        "id": "zJNyIJKWRX2M",
        "outputId": "9bc874c0-1c23-4bb8-8539-901da7941a98"
      },
      "execution_count": null,
      "outputs": [
        {
          "output_type": "execute_result",
          "data": {
            "text/plain": [
              "Text(0, 0.5, 'TPR')"
            ]
          },
          "metadata": {},
          "execution_count": 14
        },
        {
          "output_type": "display_data",
          "data": {
            "text/plain": [
              "<Figure size 1080x720 with 1 Axes>"
            ],
            "image/png": "[encoded data removed]"
          },
          "metadata": {
            "needs_background": "light"
          }
        }
      ]
    },
    {
      "cell_type": "markdown",
      "source": [
        "### Problem 3.3"
      ],
      "metadata": {
        "id": "8xZS-p3aWdt8"
      }
    },
    {
      "cell_type": "markdown",
      "source": [
        "As lambda increases, the FDR increases but the TPR also increases. They both max out around 0.5ish. The lambda in this case changes how likely it is to have a true positive rate but also in turn increases the number of false discovery rate."
      ],
      "metadata": {
        "id": "vI1vF54eWkc2"
      }
    },
    {
      "cell_type": "markdown",
      "source": [
        "## Problem 4.1"
      ],
      "metadata": {
        "id": "C_e1bf0pcEvj"
      }
    },
    {
      "cell_type": "markdown",
      "source": [
        "--------------------------------------------------------------------------------"
      ],
      "metadata": {
        "id": "-Qsbh1YsIQr7"
      }
    },
    {
      "cell_type": "code",
      "source": [
        "import pandas as pd\n",
        "df_train = pd.read_table(\"crime-train.txt\")\n",
        "df_test = pd.read_table(\"crime-test.txt\")"
      ],
      "metadata": {
        "id": "W_EoQtWoISl1"
      },
      "execution_count": null,
      "outputs": []
    },
    {
      "cell_type": "code",
      "source": [
        "df_train"
      ],
      "metadata": {
        "id": "wRvz-KhaIn_n",
        "colab": {
          "base_uri": "https://localhost:8080/",
          "height": 488
        },
        "outputId": "2133f4ff-c193-47eb-9c87-91f6ca192b20"
      },
      "execution_count": null,
      "outputs": [
        {
          "output_type": "execute_result",
          "data": {
            "text/plain": [
              "      ViolentCrimesPerPop  population  householdsize  agePct12t21  \\\n",
              "0                    0.67       -0.45          -1.85        -1.06   \n",
              "1                    0.43       -0.45          -0.27        -0.22   \n",
              "2                    0.12       -0.14           1.87         0.55   \n",
              "3                    0.03       -0.38           0.53        -0.28   \n",
              "4                    0.14       -0.30          -1.12        -0.74   \n",
              "...                   ...         ...            ...          ...   \n",
              "1590                 0.09       -0.38          -0.39         0.04   \n",
              "1591                 0.45       -0.06           3.03         1.71   \n",
              "1592                 0.23        0.81          -0.57        -0.48   \n",
              "1593                 0.19        0.18           0.28         1.00   \n",
              "1594                 0.48        1.12           1.93         0.49   \n",
              "\n",
              "      agePct12t29  agePct16t24  agePct65up  numbUrban  pctUrban  medIncome  \\\n",
              "0            0.67         0.08       -0.85      -0.34      0.68      -0.24   \n",
              "1           -0.17        -0.34       -0.58      -0.50     -1.57      -0.29   \n",
              "2            0.04         0.02       -1.19      -0.03      0.68       1.05   \n",
              "3           -0.79        -0.64       -0.35      -0.34      0.46       0.66   \n",
              "4           -0.10        -0.40       -0.30      -0.19      0.68       0.76   \n",
              "...           ...          ...         ...        ...       ...        ...   \n",
              "1590         0.11         0.08       -0.69      -0.27      0.68       0.28   \n",
              "1591         2.55         2.36       -1.58      -0.03      0.68      -0.39   \n",
              "1592         0.04        -0.16        0.65       0.83      0.68      -0.24   \n",
              "1593         1.71         1.76       -0.07       0.20      0.68       0.38   \n",
              "1594         0.88         0.38       -1.41       1.14      0.68       0.19   \n",
              "\n",
              "      ...  NumStreet  PctForeignBorn  PctBornSameState  PctSameHouse85  \\\n",
              "0     ...      -0.23           -0.02             -0.53           -1.08   \n",
              "1     ...      -0.23           -0.33             -0.58            0.03   \n",
              "2     ...      -0.23           -0.11             -1.51            1.07   \n",
              "3     ...      -0.23           -0.46              0.54            0.58   \n",
              "4     ...      -0.23            2.10             -0.92           -0.25   \n",
              "...   ...        ...             ...               ...             ...   \n",
              "1590  ...      -0.23            0.02             -1.61           -1.08   \n",
              "1591  ...      -0.23            1.36             -1.76           -2.01   \n",
              "1592  ...      -0.03            0.15              0.35            0.41   \n",
              "1593  ...      -0.13            1.01              0.15            0.03   \n",
              "1594  ...       0.57            2.01             -0.53           -1.08   \n",
              "\n",
              "      PctSameCity85  PctSameState85  LandArea  PopDens  PctUsePubTrans  \\\n",
              "0             -0.13           -0.66     -0.41    -0.56            1.26   \n",
              "1              0.22           -0.46     -0.50    -0.11           -0.62   \n",
              "2              0.07           -0.01     -0.41     0.77            0.52   \n",
              "3             -0.08           -0.61     -0.23    -0.70           -0.62   \n",
              "4              0.52           -0.06     -0.50     1.71           -0.27   \n",
              "...             ...             ...       ...      ...             ...   \n",
              "1590          -0.73           -1.32     -0.50     0.23           -0.49   \n",
              "1591          -2.63           -3.29     -0.41     0.68            0.17   \n",
              "1592           0.82            0.55      0.13     0.43            0.08   \n",
              "1593          -0.18           -0.66     -0.32     0.72            0.73   \n",
              "1594          -1.38            0.14      0.41     0.33           -0.49   \n",
              "\n",
              "      LemasPctOfficDrugUn  \n",
              "0                   -0.39  \n",
              "1                   -0.39  \n",
              "2                   -0.39  \n",
              "3                   -0.39  \n",
              "4                   -0.39  \n",
              "...                   ...  \n",
              "1590                -0.39  \n",
              "1591                -0.39  \n",
              "1592                 3.40  \n",
              "1593                 0.52  \n",
              "1594                 3.77  \n",
              "\n",
              "[1595 rows x 96 columns]"
            ],
            "text/html": [
              "\n",
              "  <div id=\"df-aa842bd8-7200-4e4f-9d9b-b1100dd003ec\">\n",
              "    <div class=\"colab-df-container\">\n",
              "      <div>\n",
              "<style scoped>\n",
              "    .dataframe tbody tr th:only-of-type {\n",
              "        vertical-align: middle;\n",
              "    }\n",
              "\n",
              "    .dataframe tbody tr th {\n",
              "        vertical-align: top;\n",
              "    }\n",
              "\n",
              "    .dataframe thead th {\n",
              "        text-align: right;\n",
              "    }\n",
              "</style>\n",
              "<table border=\"1\" class=\"dataframe\">\n",
              "  <thead>\n",
              "    <tr style=\"text-align: right;\">\n",
              "      <th></th>\n",
              "      <th>ViolentCrimesPerPop</th>\n",
              "      <th>population</th>\n",
              "      <th>householdsize</th>\n",
              "      <th>agePct12t21</th>\n",
              "      <th>agePct12t29</th>\n",
              "      <th>agePct16t24</th>\n",
              "      <th>agePct65up</th>\n",
              "      <th>numbUrban</th>\n",
              "      <th>pctUrban</th>\n",
              "      <th>medIncome</th>\n",
              "      <th>...</th>\n",
              "      <th>NumStreet</th>\n",
              "      <th>PctForeignBorn</th>\n",
              "      <th>PctBornSameState</th>\n",
              "      <th>PctSameHouse85</th>\n",
              "      <th>PctSameCity85</th>\n",
              "      <th>PctSameState85</th>\n",
              "      <th>LandArea</th>\n",
              "      <th>PopDens</th>\n",
              "      <th>PctUsePubTrans</th>\n",
              "      <th>LemasPctOfficDrugUn</th>\n",
              "    </tr>\n",
              "  </thead>\n",
              "  <tbody>\n",
              "    <tr>\n",
              "      <th>0</th>\n",
              "      <td>0.67</td>\n",
              "      <td>-0.45</td>\n",
              "      <td>-1.85</td>\n",
              "      <td>-1.06</td>\n",
              "      <td>0.67</td>\n",
              "      <td>0.08</td>\n",
              "      <td>-0.85</td>\n",
              "      <td>-0.34</td>\n",
              "      <td>0.68</td>\n",
              "      <td>-0.24</td>\n",
              "      <td>...</td>\n",
              "      <td>-0.23</td>\n",
              "      <td>-0.02</td>\n",
              "      <td>-0.53</td>\n",
              "      <td>-1.08</td>\n",
              "      <td>-0.13</td>\n",
              "      <td>-0.66</td>\n",
              "      <td>-0.41</td>\n",
              "      <td>-0.56</td>\n",
              "      <td>1.26</td>\n",
              "      <td>-0.39</td>\n",
              "    </tr>\n",
              "    <tr>\n",
              "      <th>1</th>\n",
              "      <td>0.43</td>\n",
              "      <td>-0.45</td>\n",
              "      <td>-0.27</td>\n",
              "      <td>-0.22</td>\n",
              "      <td>-0.17</td>\n",
              "      <td>-0.34</td>\n",
              "      <td>-0.58</td>\n",
              "      <td>-0.50</td>\n",
              "      <td>-1.57</td>\n",
              "      <td>-0.29</td>\n",
              "      <td>...</td>\n",
              "      <td>-0.23</td>\n",
              "      <td>-0.33</td>\n",
              "      <td>-0.58</td>\n",
              "      <td>0.03</td>\n",
              "      <td>0.22</td>\n",
              "      <td>-0.46</td>\n",
              "      <td>-0.50</td>\n",
              "      <td>-0.11</td>\n",
              "      <td>-0.62</td>\n",
              "      <td>-0.39</td>\n",
              "    </tr>\n",
              "    <tr>\n",
              "      <th>2</th>\n",
              "      <td>0.12</td>\n",
              "      <td>-0.14</td>\n",
              "      <td>1.87</td>\n",
              "      <td>0.55</td>\n",
              "      <td>0.04</td>\n",
              "      <td>0.02</td>\n",
              "      <td>-1.19</td>\n",
              "      <td>-0.03</td>\n",
              "      <td>0.68</td>\n",
              "      <td>1.05</td>\n",
              "      <td>...</td>\n",
              "      <td>-0.23</td>\n",
              "      <td>-0.11</td>\n",
              "      <td>-1.51</td>\n",
              "      <td>1.07</td>\n",
              "      <td>0.07</td>\n",
              "      <td>-0.01</td>\n",
              "      <td>-0.41</td>\n",
              "      <td>0.77</td>\n",
              "      <td>0.52</td>\n",
              "      <td>-0.39</td>\n",
              "    </tr>\n",
              "    <tr>\n",
              "      <th>3</th>\n",
              "      <td>0.03</td>\n",
              "      <td>-0.38</td>\n",
              "      <td>0.53</td>\n",
              "      <td>-0.28</td>\n",
              "      <td>-0.79</td>\n",
              "      <td>-0.64</td>\n",
              "      <td>-0.35</td>\n",
              "      <td>-0.34</td>\n",
              "      <td>0.46</td>\n",
              "      <td>0.66</td>\n",
              "      <td>...</td>\n",
              "      <td>-0.23</td>\n",
              "      <td>-0.46</td>\n",
              "      <td>0.54</td>\n",
              "      <td>0.58</td>\n",
              "      <td>-0.08</td>\n",
              "      <td>-0.61</td>\n",
              "      <td>-0.23</td>\n",
              "      <td>-0.70</td>\n",
              "      <td>-0.62</td>\n",
              "      <td>-0.39</td>\n",
              "    </tr>\n",
              "    <tr>\n",
              "      <th>4</th>\n",
              "      <td>0.14</td>\n",
              "      <td>-0.30</td>\n",
              "      <td>-1.12</td>\n",
              "      <td>-0.74</td>\n",
              "      <td>-0.10</td>\n",
              "      <td>-0.40</td>\n",
              "      <td>-0.30</td>\n",
              "      <td>-0.19</td>\n",
              "      <td>0.68</td>\n",
              "      <td>0.76</td>\n",
              "      <td>...</td>\n",
              "      <td>-0.23</td>\n",
              "      <td>2.10</td>\n",
              "      <td>-0.92</td>\n",
              "      <td>-0.25</td>\n",
              "      <td>0.52</td>\n",
              "      <td>-0.06</td>\n",
              "      <td>-0.50</td>\n",
              "      <td>1.71</td>\n",
              "      <td>-0.27</td>\n",
              "      <td>-0.39</td>\n",
              "    </tr>\n",
              "    <tr>\n",
              "      <th>...</th>\n",
              "      <td>...</td>\n",
              "      <td>...</td>\n",
              "      <td>...</td>\n",
              "      <td>...</td>\n",
              "      <td>...</td>\n",
              "      <td>...</td>\n",
              "      <td>...</td>\n",
              "      <td>...</td>\n",
              "      <td>...</td>\n",
              "      <td>...</td>\n",
              "      <td>...</td>\n",
              "      <td>...</td>\n",
              "      <td>...</td>\n",
              "      <td>...</td>\n",
              "      <td>...</td>\n",
              "      <td>...</td>\n",
              "      <td>...</td>\n",
              "      <td>...</td>\n",
              "      <td>...</td>\n",
              "      <td>...</td>\n",
              "      <td>...</td>\n",
              "    </tr>\n",
              "    <tr>\n",
              "      <th>1590</th>\n",
              "      <td>0.09</td>\n",
              "      <td>-0.38</td>\n",
              "      <td>-0.39</td>\n",
              "      <td>0.04</td>\n",
              "      <td>0.11</td>\n",
              "      <td>0.08</td>\n",
              "      <td>-0.69</td>\n",
              "      <td>-0.27</td>\n",
              "      <td>0.68</td>\n",
              "      <td>0.28</td>\n",
              "      <td>...</td>\n",
              "      <td>-0.23</td>\n",
              "      <td>0.02</td>\n",
              "      <td>-1.61</td>\n",
              "      <td>-1.08</td>\n",
              "      <td>-0.73</td>\n",
              "      <td>-1.32</td>\n",
              "      <td>-0.50</td>\n",
              "      <td>0.23</td>\n",
              "      <td>-0.49</td>\n",
              "      <td>-0.39</td>\n",
              "    </tr>\n",
              "    <tr>\n",
              "      <th>1591</th>\n",
              "      <td>0.45</td>\n",
              "      <td>-0.06</td>\n",
              "      <td>3.03</td>\n",
              "      <td>1.71</td>\n",
              "      <td>2.55</td>\n",
              "      <td>2.36</td>\n",
              "      <td>-1.58</td>\n",
              "      <td>-0.03</td>\n",
              "      <td>0.68</td>\n",
              "      <td>-0.39</td>\n",
              "      <td>...</td>\n",
              "      <td>-0.23</td>\n",
              "      <td>1.36</td>\n",
              "      <td>-1.76</td>\n",
              "      <td>-2.01</td>\n",
              "      <td>-2.63</td>\n",
              "      <td>-3.29</td>\n",
              "      <td>-0.41</td>\n",
              "      <td>0.68</td>\n",
              "      <td>0.17</td>\n",
              "      <td>-0.39</td>\n",
              "    </tr>\n",
              "    <tr>\n",
              "      <th>1592</th>\n",
              "      <td>0.23</td>\n",
              "      <td>0.81</td>\n",
              "      <td>-0.57</td>\n",
              "      <td>-0.48</td>\n",
              "      <td>0.04</td>\n",
              "      <td>-0.16</td>\n",
              "      <td>0.65</td>\n",
              "      <td>0.83</td>\n",
              "      <td>0.68</td>\n",
              "      <td>-0.24</td>\n",
              "      <td>...</td>\n",
              "      <td>-0.03</td>\n",
              "      <td>0.15</td>\n",
              "      <td>0.35</td>\n",
              "      <td>0.41</td>\n",
              "      <td>0.82</td>\n",
              "      <td>0.55</td>\n",
              "      <td>0.13</td>\n",
              "      <td>0.43</td>\n",
              "      <td>0.08</td>\n",
              "      <td>3.40</td>\n",
              "    </tr>\n",
              "    <tr>\n",
              "      <th>1593</th>\n",
              "      <td>0.19</td>\n",
              "      <td>0.18</td>\n",
              "      <td>0.28</td>\n",
              "      <td>1.00</td>\n",
              "      <td>1.71</td>\n",
              "      <td>1.76</td>\n",
              "      <td>-0.07</td>\n",
              "      <td>0.20</td>\n",
              "      <td>0.68</td>\n",
              "      <td>0.38</td>\n",
              "      <td>...</td>\n",
              "      <td>-0.13</td>\n",
              "      <td>1.01</td>\n",
              "      <td>0.15</td>\n",
              "      <td>0.03</td>\n",
              "      <td>-0.18</td>\n",
              "      <td>-0.66</td>\n",
              "      <td>-0.32</td>\n",
              "      <td>0.72</td>\n",
              "      <td>0.73</td>\n",
              "      <td>0.52</td>\n",
              "    </tr>\n",
              "    <tr>\n",
              "      <th>1594</th>\n",
              "      <td>0.48</td>\n",
              "      <td>1.12</td>\n",
              "      <td>1.93</td>\n",
              "      <td>0.49</td>\n",
              "      <td>0.88</td>\n",
              "      <td>0.38</td>\n",
              "      <td>-1.41</td>\n",
              "      <td>1.14</td>\n",
              "      <td>0.68</td>\n",
              "      <td>0.19</td>\n",
              "      <td>...</td>\n",
              "      <td>0.57</td>\n",
              "      <td>2.01</td>\n",
              "      <td>-0.53</td>\n",
              "      <td>-1.08</td>\n",
              "      <td>-1.38</td>\n",
              "      <td>0.14</td>\n",
              "      <td>0.41</td>\n",
              "      <td>0.33</td>\n",
              "      <td>-0.49</td>\n",
              "      <td>3.77</td>\n",
              "    </tr>\n",
              "  </tbody>\n",
              "</table>\n",
              "<p>1595 rows × 96 columns</p>\n",
              "</div>\n",
              "      <button class=\"colab-df-convert\" onclick=\"convertToInteractive('df-aa842bd8-7200-4e4f-9d9b-b1100dd003ec')\"\n",
              "              title=\"Convert this dataframe to an interactive table.\"\n",
              "              style=\"display:none;\">\n",
              "        \n",
              "  <svg xmlns=\"http://www.w3.org/2000/svg\" height=\"24px\"viewBox=\"0 0 24 24\"\n",
              "       width=\"24px\">\n",
              "    <path d=\"M0 0h24v24H0V0z\" fill=\"none\"/>\n",
              "    <path d=\"M18.56 5.44l.94 2.06.94-2.06 2.06-.94-2.06-.94-.94-2.06-.94 2.06-2.06.94zm-11 1L8.5 8.5l.94-2.06 2.06-.94-2.06-.94L8.5 2.5l-.94 2.06-2.06.94zm10 10l.94 2.06.94-2.06 2.06-.94-2.06-.94-.94-2.06-.94 2.06-2.06.94z\"/><path d=\"M17.41 7.96l-1.37-1.37c-.4-.4-.92-.59-1.43-.59-.52 0-1.04.2-1.43.59L10.3 9.45l-7.72 7.72c-.78.78-.78 2.05 0 2.83L4 21.41c.39.39.9.59 1.41.59.51 0 1.02-.2 1.41-.59l7.78-7.78 2.81-2.81c.8-.78.8-2.07 0-2.86zM5.41 20L4 18.59l7.72-7.72 1.47 1.35L5.41 20z\"/>\n",
              "  </svg>\n",
              "      </button>\n",
              "      \n",
              "  <style>\n",
              "    .colab-df-container {\n",
              "      display:flex;\n",
              "      flex-wrap:wrap;\n",
              "      gap: 12px;\n",
              "    }\n",
              "\n",
              "    .colab-df-convert {\n",
              "      background-color: #E8F0FE;\n",
              "      border: none;\n",
              "      border-radius: 50%;\n",
              "      cursor: pointer;\n",
              "      display: none;\n",
              "      fill: #1967D2;\n",
              "      height: 32px;\n",
              "      padding: 0 0 0 0;\n",
              "      width: 32px;\n",
              "    }\n",
              "\n",
              "    .colab-df-convert:hover {\n",
              "      background-color: #E2EBFA;\n",
              "      box-shadow: 0px 1px 2px rgba(60, 64, 67, 0.3), 0px 1px 3px 1px rgba(60, 64, 67, 0.15);\n",
              "      fill: #174EA6;\n",
              "    }\n",
              "\n",
              "    [theme=dark] .colab-df-convert {\n",
              "      background-color: #3B4455;\n",
              "      fill: #D2E3FC;\n",
              "    }\n",
              "\n",
              "    [theme=dark] .colab-df-convert:hover {\n",
              "      background-color: #434B5C;\n",
              "      box-shadow: 0px 1px 3px 1px rgba(0, 0, 0, 0.15);\n",
              "      filter: drop-shadow(0px 1px 2px rgba(0, 0, 0, 0.3));\n",
              "      fill: #FFFFFF;\n",
              "    }\n",
              "  </style>\n",
              "\n",
              "      <script>\n",
              "        const buttonEl =\n",
              "          document.querySelector('#df-aa842bd8-7200-4e4f-9d9b-b1100dd003ec button.colab-df-convert');\n",
              "        buttonEl.style.display =\n",
              "          google.colab.kernel.accessAllowed ? 'block' : 'none';\n",
              "\n",
              "        async function convertToInteractive(key) {\n",
              "          const element = document.querySelector('#df-aa842bd8-7200-4e4f-9d9b-b1100dd003ec');\n",
              "          const dataTable =\n",
              "            await google.colab.kernel.invokeFunction('convertToInteractive',\n",
              "                                                     [key], {});\n",
              "          if (!dataTable) return;\n",
              "\n",
              "          const docLinkHtml = 'Like what you see? Visit the ' +\n",
              "            '<a target=\"_blank\" href=https://colab.research.google.com/notebooks/data_table.ipynb>data table notebook</a>'\n",
              "            + ' to learn more about interactive tables.';\n",
              "          element.innerHTML = '';\n",
              "          dataTable['output_type'] = 'display_data';\n",
              "          await google.colab.output.renderOutput(dataTable, element);\n",
              "          const docLink = document.createElement('div');\n",
              "          docLink.innerHTML = docLinkHtml;\n",
              "          element.appendChild(docLink);\n",
              "        }\n",
              "      </script>\n",
              "    </div>\n",
              "  </div>\n",
              "  "
            ]
          },
          "metadata": {},
          "execution_count": 17
        }
      ]
    },
    {
      "cell_type": "code",
      "source": [
        "df_train.columns.get_loc(\"agePct65up\")"
      ],
      "metadata": {
        "colab": {
          "base_uri": "https://localhost:8080/"
        },
        "id": "D1au_bm7deWN",
        "outputId": "ebf586b6-c0c1-488b-bb37-dd7b329dfb9c"
      },
      "execution_count": null,
      "outputs": [
        {
          "output_type": "execute_result",
          "data": {
            "text/plain": [
              "6"
            ]
          },
          "metadata": {},
          "execution_count": 18
        }
      ]
    },
    {
      "cell_type": "code",
      "source": [
        "crime_y = df_train[\"ViolentCrimesPerPop\"].to_numpy()\n",
        "crime_X = df_train.drop(columns=[\"ViolentCrimesPerPop\"]).to_numpy()"
      ],
      "metadata": {
        "id": "Qxdoq1MwI29Z"
      },
      "execution_count": null,
      "outputs": []
    },
    {
      "cell_type": "code",
      "source": [
        "crime_X.T.shape"
      ],
      "metadata": {
        "id": "QUSbahu0JHbK",
        "colab": {
          "base_uri": "https://localhost:8080/"
        },
        "outputId": "c5b166b5-47f6-4510-aed3-7fe26ec3b34d"
      },
      "execution_count": null,
      "outputs": [
        {
          "output_type": "execute_result",
          "data": {
            "text/plain": [
              "(95, 1595)"
            ]
          },
          "metadata": {},
          "execution_count": 20
        }
      ]
    },
    {
      "cell_type": "code",
      "source": [
        "def lmax(X,y):\n",
        "    n, d =  X.shape\n",
        "    lambda_max = 0\n",
        "    for i in range(1,d+1):\n",
        "        temp = max(2*abs((X[:,i-1].reshape(-1,1).T)@(y-(y.mean().reshape(-1,1)))))\n",
        "        if temp > lambda_max:\n",
        "            lambda_max = temp\n",
        "    return lambda_max"
      ],
      "metadata": {
        "id": "mWbGzqkd56Pi"
      },
      "execution_count": null,
      "outputs": []
    },
    {
      "cell_type": "code",
      "source": [
        "leave_while = False\n",
        "penalty_exp = 0\n",
        "nonzeros = []\n",
        "lambda_list = []\n",
        "\n",
        "l_max = lmax(crime_X, crime_y.reshape(-1,1))\n",
        "penalty = l_max/(1.5)\n",
        "\n",
        "betas = []\n",
        "beta_init = np.zeros(95).reshape(95)\n",
        "while not leave_while:\n",
        "  lambda_list.append(penalty)\n",
        "  penalty_exp+=1\n",
        "  betaz = lasso_solver(crime_X,crime_y,beta_init,penalty,0.01)\n",
        "  betas.append(betaz)\n",
        "  num_non = np.linalg.norm(betaz,ord =0)\n",
        "  nonzeros.append(num_non)\n",
        "  if  penalty <= 0.01:\n",
        "    leave_while = True\n",
        "\n",
        "  penalty = penalty/2"
      ],
      "metadata": {
        "id": "uGn-q1o9Ydxm"
      },
      "execution_count": null,
      "outputs": []
    },
    {
      "cell_type": "code",
      "source": [
        "import matplotlib.pyplot as plt\n",
        "plt.figure(figsize=(15,10))\n",
        "plt.xscale('log')\n",
        "plt.plot(lambda_list,nonzeros)\n",
        "plt.ylabel(\"non-zeros\")\n",
        "plt.xlabel(\"log\")"
      ],
      "metadata": {
        "colab": {
          "base_uri": "https://localhost:8080/",
          "height": 627
        },
        "id": "7YgFJKYtb_bS",
        "outputId": "709821af-7fca-4f65-e6a6-38abe2bc9fce"
      },
      "execution_count": null,
      "outputs": [
        {
          "output_type": "execute_result",
          "data": {
            "text/plain": [
              "Text(0.5, 0, 'log')"
            ]
          },
          "metadata": {},
          "execution_count": 77
        },
        {
          "output_type": "display_data",
          "data": {
            "text/plain": [
              "<Figure size 1080x720 with 1 Axes>"
            ],
            "image/png": "[encoded data removed]"
          },
          "metadata": {
            "needs_background": "light"
          }
        }
      ]
    },
    {
      "cell_type": "markdown",
      "source": [
        "### Problem 4.2"
      ],
      "metadata": {
        "id": "8rMXGNX3ctGq"
      }
    },
    {
      "cell_type": "markdown",
      "source": [
        "agepct12t29 index 4 \\\\\n",
        "pctWSocSec index 13 \\\\\n",
        "pctUrban index 8 \\\\\n",
        "agePct65up index 6"
      ],
      "metadata": {
        "id": "BjsGgL7ceC1W"
      }
    },
    {
      "cell_type": "code",
      "source": [
        "crime_X_less = crime_X[4]\n",
        "np.insert(0, crime_X_less,crime_X[6])"
      ],
      "metadata": {
        "colab": {
          "base_uri": "https://localhost:8080/",
          "height": 353
        },
        "id": "usbHPXNpfiFP",
        "outputId": "14d42eac-3f41-4b32-ab5f-1e8c71cf4242"
      },
      "execution_count": null,
      "outputs": [
        {
          "output_type": "error",
          "ename": "IndexError",
          "evalue": "ignored",
          "traceback": [
            "\u001b[0;31m---------------------------------------------------------------------------\u001b[0m",
            "\u001b[0;31mIndexError\u001b[0m                                Traceback (most recent call last)",
            "\u001b[0;32m<ipython-input-29-57e31d09bb0d>\u001b[0m in \u001b[0;36m<module>\u001b[0;34m()\u001b[0m\n\u001b[1;32m      1\u001b[0m \u001b[0mcrime_X_less\u001b[0m \u001b[0;34m=\u001b[0m \u001b[0mcrime_X\u001b[0m\u001b[0;34m[\u001b[0m\u001b[0;36m4\u001b[0m\u001b[0;34m]\u001b[0m\u001b[0;34m\u001b[0m\u001b[0;34m\u001b[0m\u001b[0m\n\u001b[0;32m----> 2\u001b[0;31m \u001b[0mnp\u001b[0m\u001b[0;34m.\u001b[0m\u001b[0minsert\u001b[0m\u001b[0;34m(\u001b[0m\u001b[0;36m0\u001b[0m\u001b[0;34m,\u001b[0m \u001b[0mcrime_X_less\u001b[0m\u001b[0;34m,\u001b[0m\u001b[0mcrime_X\u001b[0m\u001b[0;34m[\u001b[0m\u001b[0;36m6\u001b[0m\u001b[0;34m]\u001b[0m\u001b[0;34m)\u001b[0m\u001b[0;34m\u001b[0m\u001b[0;34m\u001b[0m\u001b[0m\n\u001b[0m",
            "\u001b[0;32m<__array_function__ internals>\u001b[0m in \u001b[0;36minsert\u001b[0;34m(*args, **kwargs)\u001b[0m\n",
            "\u001b[0;32m/usr/local/lib/python3.7/dist-packages/numpy/lib/function_base.py\u001b[0m in \u001b[0;36minsert\u001b[0;34m(arr, obj, values, axis)\u001b[0m\n\u001b[1;32m   4742\u001b[0m     \u001b[0mnewshape\u001b[0m\u001b[0;34m[\u001b[0m\u001b[0maxis\u001b[0m\u001b[0;34m]\u001b[0m \u001b[0;34m+=\u001b[0m \u001b[0mnumnew\u001b[0m\u001b[0;34m\u001b[0m\u001b[0;34m\u001b[0m\u001b[0m\n\u001b[1;32m   4743\u001b[0m     \u001b[0mold_mask\u001b[0m \u001b[0;34m=\u001b[0m \u001b[0mones\u001b[0m\u001b[0;34m(\u001b[0m\u001b[0mnewshape\u001b[0m\u001b[0;34m[\u001b[0m\u001b[0maxis\u001b[0m\u001b[0;34m]\u001b[0m\u001b[0;34m,\u001b[0m \u001b[0mdtype\u001b[0m\u001b[0;34m=\u001b[0m\u001b[0mbool\u001b[0m\u001b[0;34m)\u001b[0m\u001b[0;34m\u001b[0m\u001b[0;34m\u001b[0m\u001b[0m\n\u001b[0;32m-> 4744\u001b[0;31m     \u001b[0mold_mask\u001b[0m\u001b[0;34m[\u001b[0m\u001b[0mindices\u001b[0m\u001b[0;34m]\u001b[0m \u001b[0;34m=\u001b[0m \u001b[0;32mFalse\u001b[0m\u001b[0;34m\u001b[0m\u001b[0;34m\u001b[0m\u001b[0m\n\u001b[0m\u001b[1;32m   4745\u001b[0m \u001b[0;34m\u001b[0m\u001b[0m\n\u001b[1;32m   4746\u001b[0m     \u001b[0mnew\u001b[0m \u001b[0;34m=\u001b[0m \u001b[0mempty\u001b[0m\u001b[0;34m(\u001b[0m\u001b[0mnewshape\u001b[0m\u001b[0;34m,\u001b[0m \u001b[0marr\u001b[0m\u001b[0;34m.\u001b[0m\u001b[0mdtype\u001b[0m\u001b[0;34m,\u001b[0m \u001b[0marrorder\u001b[0m\u001b[0;34m)\u001b[0m\u001b[0;34m\u001b[0m\u001b[0;34m\u001b[0m\u001b[0m\n",
            "\u001b[0;31mIndexError\u001b[0m: arrays used as indices must be of integer (or boolean) type"
          ]
        }
      ]
    },
    {
      "cell_type": "code",
      "source": [
        "leave_while = False\n",
        "penalty_exp = 0\n",
        "nonzeros = []\n",
        "lambda_list = []\n",
        "l_max = lmax(crime_X, crime_y.reshape(-1,1))\n",
        "penalty = l_max/(2)\n",
        "\n",
        "betas = []\n",
        "beta_init = np.zeros(95).reshape(95)\n",
        "age = []\n",
        "pct = []\n",
        "urb = []\n",
        "age65 = []\n",
        "house = []\n",
        "trainmse = []\n",
        "testmse = []\n",
        "while not leave_while:\n",
        "  lambda_list.append(penalty)\n",
        "  penalty_exp+=1\n",
        "  betaz = lasso_solver(crime_X,crime_y,beta_init,penalty,0.01)\n",
        "  betas.append(betaz)\n",
        "  num_non = np.linalg.norm(betaz,0)\n",
        "  nonzeros.append(num_non)\n",
        "  age.append(float(betaz[4]))\n",
        "  pct.append(float(betaz[13]))\n",
        "  urb.append(float(betaz[8]))\n",
        "  age65.append(float(betaz[6]))\n",
        "  house.append(float(betaz[2]))\n",
        "\n",
        "  if  penalty <= 0.01:\n",
        "    leave_while = True\n",
        "\n",
        "  penalty = penalty/2"
      ],
      "metadata": {
        "id": "_aPGRhtwfRb2"
      },
      "execution_count": null,
      "outputs": []
    },
    {
      "cell_type": "code",
      "source": [
        "betas2 = np.array(betas)"
      ],
      "metadata": {
        "id": "wnIp_znTgy9f"
      },
      "execution_count": null,
      "outputs": []
    },
    {
      "cell_type": "code",
      "source": [
        "betas2[4]"
      ],
      "metadata": {
        "id": "bSp-raWoibML"
      },
      "execution_count": null,
      "outputs": []
    },
    {
      "cell_type": "code",
      "source": [
        "plt.figure(figsize=(15,12))\n",
        "plt.plot(lambda_list,age,label = \"age\")\n",
        "plt.plot(lambda_list,pct, label = \"pct\")\n",
        "plt.plot(lambda_list,urb, label = \"urb\")\n",
        "plt.plot(lambda_list,age65, label = \"age65\")\n",
        "plt.plot(lambda_list, house, label = \"house\")\n",
        "plt.legend()\n",
        "plt.xscale('log')"
      ],
      "metadata": {
        "colab": {
          "base_uri": "https://localhost:8080/",
          "height": 704
        },
        "id": "YAWILMbBb3wi",
        "outputId": "da91d30c-24b8-4947-98ef-ba13c2669eaa"
      },
      "execution_count": null,
      "outputs": [
        {
          "output_type": "display_data",
          "data": {
            "text/plain": [
              "<Figure size 1080x864 with 1 Axes>"
            ],
            "image/png": "[encoded data removed]"
          },
          "metadata": {
            "needs_background": "light"
          }
        }
      ]
    },
    {
      "cell_type": "code",
      "source": [
        "betas[3][6]"
      ],
      "metadata": {
        "colab": {
          "base_uri": "https://localhost:8080/"
        },
        "id": "cG_-hEuwekuy",
        "outputId": "defa29cb-0027-40be-f513-6f55a359f48d"
      },
      "execution_count": null,
      "outputs": [
        {
          "output_type": "execute_result",
          "data": {
            "text/plain": [
              "0.0013691106293629894"
            ]
          },
          "metadata": {},
          "execution_count": 28
        }
      ]
    },
    {
      "cell_type": "markdown",
      "source": [
        "### Problem 4.3"
      ],
      "metadata": {
        "id": "5ROFR5zlit_d"
      }
    },
    {
      "cell_type": "code",
      "source": [
        "crime_y_test = df_test[\"ViolentCrimesPerPop\"].to_numpy()\n",
        "crime_X_test = df_test.drop(columns=[\"ViolentCrimesPerPop\"]).to_numpy()"
      ],
      "metadata": {
        "id": "O_rUqtQYjBe_"
      },
      "execution_count": null,
      "outputs": []
    },
    {
      "cell_type": "code",
      "source": [
        "leave_while = False\n",
        "nonzeros_test = []\n",
        "lambda_list_test = []\n",
        "l_max_test = np.amax(crime_X_test.T @ crime_y_test)/len(crime_X_test)\n",
        "penalty = l_max/(1.5)\n",
        "\n",
        "betas_test = []\n",
        "beta_init = np.zeros(95).reshape(95)\n",
        "\n",
        "trainmse = []\n",
        "testmse = []\n",
        "while not leave_while:\n",
        "  lambda_list_test.append(penalty)\n",
        "  betaz_test = lasso_solver(crime_X_test,crime_y_test,beta_init,penalty,0.01)\n",
        "  betaz = lasso_solver(crime_X,crime_y,beta_init,penalty,0.01)\n",
        "  betas_test.append(betaz_test)\n",
        "  num_non_test = np.linalg.norm(betaz,0)\n",
        "  nonzeros_test.append(num_non_test)\n",
        "\n",
        "  if  penalty <= 0.01:\n",
        "    leave_while = True\n",
        "\n",
        "  penalty = penalty/2"
      ],
      "metadata": {
        "id": "bafMLLE5ix7a"
      },
      "execution_count": null,
      "outputs": []
    },
    {
      "cell_type": "code",
      "source": [
        "betas_test2 = np.array(betas_test)"
      ],
      "metadata": {
        "id": "OuNwWprtk1ea"
      },
      "execution_count": null,
      "outputs": []
    },
    {
      "cell_type": "code",
      "source": [
        "lambda_list"
      ],
      "metadata": {
        "colab": {
          "base_uri": "https://localhost:8080/"
        },
        "id": "zAFtL4OSlNP_",
        "outputId": "410551ab-4443-433c-ff5f-358f807f4a70"
      },
      "execution_count": null,
      "outputs": [
        {
          "output_type": "execute_result",
          "data": {
            "text/plain": [
              "[array([270.74130132]),\n",
              " array([135.37065066]),\n",
              " array([67.68532533]),\n",
              " array([33.84266266]),\n",
              " array([16.92133133]),\n",
              " array([8.46066567]),\n",
              " array([4.23033283]),\n",
              " array([2.11516642]),\n",
              " array([1.05758321]),\n",
              " array([0.5287916]),\n",
              " array([0.2643958]),\n",
              " array([0.1321979]),\n",
              " array([0.06609895]),\n",
              " array([0.03304948]),\n",
              " array([0.01652474]),\n",
              " array([0.00826237])]"
            ]
          },
          "metadata": {},
          "execution_count": 118
        }
      ]
    },
    {
      "cell_type": "code",
      "source": [
        "mse_train = np.sum(betas2**2,axis=1)/len(betas2)\n",
        "mse_test = np.sum(betas_test2**2, axis=1)/len(betas_test)"
      ],
      "metadata": {
        "id": "d5rfa_dOkFU4"
      },
      "execution_count": null,
      "outputs": []
    },
    {
      "cell_type": "code",
      "source": [
        "plt.figure(figsize=(14,12))\n",
        "plt.plot(lambda_list,mse_train)\n",
        "plt.plot(lambda_list_test,mse_test)\n",
        "plt.xscale('log')\n",
        "plt.xlabel(\"log\")\n",
        "plt.xlabel(\"mse\")\n",
        "plt.ylabel(\"Lambda\")"
      ],
      "metadata": {
        "colab": {
          "base_uri": "https://localhost:8080/",
          "height": 739
        },
        "id": "5dXFrs2PlBbb",
        "outputId": "15b65ab2-3e9f-4ed0-f662-1841f6ef87c4"
      },
      "execution_count": null,
      "outputs": [
        {
          "output_type": "execute_result",
          "data": {
            "text/plain": [
              "Text(0, 0.5, 'Lambda')"
            ]
          },
          "metadata": {},
          "execution_count": 133
        },
        {
          "output_type": "display_data",
          "data": {
            "text/plain": [
              "<Figure size 1008x864 with 1 Axes>"
            ],
            "image/png": "[encoded data removed]"
          },
          "metadata": {
            "needs_background": "light"
          }
        }
      ]
    },
    {
      "cell_type": "markdown",
      "source": [
        "### Problem 4.4"
      ],
      "metadata": {
        "id": "yFnkkqdAlqyz"
      }
    },
    {
      "cell_type": "code",
      "source": [
        "lambda_30 = lasso_solver(crime_X,crime_y,beta_init, 30, 0.1)"
      ],
      "metadata": {
        "id": "WoKtXSTUluAP"
      },
      "execution_count": null,
      "outputs": []
    },
    {
      "cell_type": "code",
      "source": [
        "# l_max = np.amax(crime_X.T @ crime_y)/len(crime_X)\n",
        "l_max = lmax(crime_X, crime_y.reshape(-1,1))"
      ],
      "metadata": {
        "id": "6njJ1nXYmoFI"
      },
      "execution_count": null,
      "outputs": []
    },
    {
      "cell_type": "code",
      "source": [
        "lambda_30"
      ],
      "metadata": {
        "colab": {
          "base_uri": "https://localhost:8080/"
        },
        "id": "qSipougOmHkt",
        "outputId": "b5244524-ea11-4115-ce05-09a816cc4ffc"
      },
      "execution_count": null,
      "outputs": [
        {
          "output_type": "execute_result",
          "data": {
            "text/plain": [
              "array([0.23542102, 0.        , 0.        , 0.        , 0.        ,\n",
              "       0.        , 0.        , 0.        , 0.        , 0.        ,\n",
              "       0.        , 0.        , 0.        , 0.        , 0.        ,\n",
              "       0.        , 0.        , 0.        , 0.        , 0.        ,\n",
              "       0.        , 0.        , 0.        , 0.        , 0.        ,\n",
              "       0.        , 0.        , 0.        , 0.        , 0.        ,\n",
              "       0.        , 0.        , 0.        , 0.        , 0.        ,\n",
              "       0.        , 0.        , 0.        , 0.        , 0.        ,\n",
              "       0.        , 0.        , 0.        , 0.        , 0.        ,\n",
              "       0.        , 0.        , 0.        , 0.        , 0.        ,\n",
              "       0.        , 0.        , 0.        , 0.        , 0.        ,\n",
              "       0.        , 0.        , 0.        , 0.        , 0.        ,\n",
              "       0.        , 0.        , 0.        , 0.        , 0.        ,\n",
              "       0.        , 0.        , 0.        , 0.        , 0.        ,\n",
              "       0.        , 0.        , 0.        , 0.        , 0.        ,\n",
              "       0.        , 0.        , 0.        , 0.        , 0.        ,\n",
              "       0.        , 0.        , 0.        , 0.        , 0.        ,\n",
              "       0.        , 0.        , 0.        , 0.        , 0.        ,\n",
              "       0.        , 0.        , 0.        , 0.        , 0.        ,\n",
              "       0.        ])"
            ]
          },
          "metadata": {},
          "execution_count": 138
        }
      ]
    },
    {
      "cell_type": "markdown",
      "source": [
        "All the coefficients are 0 for 30 but for a value just around lambda max the coefficients are mostly all 0 still. This is because the lasso solver is overfitting and thinking every value is 0 or at the truth. More sensitivity, more true positive, more false positive."
      ],
      "metadata": {
        "id": "Uq-dQtz2mKhz"
      }
    },
    {
      "cell_type": "markdown",
      "source": [
        "### Problem 5"
      ],
      "metadata": {
        "id": "aQrBJjIEm5I5"
      }
    },
    {
      "cell_type": "markdown",
      "source": [
        "The "
      ],
      "metadata": {
        "id": "pXta-7ozm-GJ"
      }
    },
    {
      "cell_type": "markdown",
      "source": [
        "### Problem 4.6\n"
      ],
      "metadata": {
        "id": "n5A1t4TpnGfb"
      }
    },
    {
      "cell_type": "markdown",
      "source": [
        "The coefficients are not direclty correlated and the variables may be independent. There are definitely many pitfalls for approaches like these, like from 4.5, the violent crime rates in high age neighborhoods can be low from a variety of causes like the fact that people who are older and neighborhoods which have a higher mean age will have less activity less violent activity at that. This is because the average age of the neighborhood is indepentant and not correlated directly to violent crime rates. They may be related to other factors like activity and not violent crime rates.\n",
        "\n",
        "Predictive policing would only be possible if the data used is literally everything in the world, but in the real world, the data is limited so it is hard to predict thing in real like since many events in real life are correlated to many other events and are not direct correlations of specific events. Also re-allocating police resources to another location could increase violent crimes in a place where there was more police reasources before but not with less resources, the crime which was held at bay before is not more prominent and increase violent crimes there.\n",
        "\n",
        "Also crime is committed by people and after the people realize that the police has reallocated their resources, the people which are committing the crime will most likely move to another place with less police resources. A game of cat and mouse."
      ],
      "metadata": {
        "id": "iIlWASO0nN9a"
      }
    },
    {
      "cell_type": "code",
      "source": [],
      "metadata": {
        "id": "tSwnDbwPm6-J"
      },
      "execution_count": null,
      "outputs": []
    },
    {
      "cell_type": "code",
      "source": [
        "op = lasso_solver(crime_X, crime_y, beta_init, 0.1,0.01)"
      ],
      "metadata": {
        "id": "-dpY-hATIfkF"
      },
      "execution_count": null,
      "outputs": []
    },
    {
      "cell_type": "code",
      "source": [
        "np.count_nonzero(op)"
      ],
      "metadata": {
        "id": "tFhYLGkDKkFj"
      },
      "execution_count": null,
      "outputs": []
    },
    {
      "cell_type": "code",
      "source": [
        "from sklearn import linear_model\n",
        "clf2=linear_model.Lasso(alpha=1,tol=0.001)\n",
        "clf2.fit(crime_X,crime_y)"
      ],
      "metadata": {
        "id": "v7BjkeCKKpWD"
      },
      "execution_count": null,
      "outputs": []
    },
    {
      "cell_type": "code",
      "source": [
        "np.count_nonzero(clf2.coef_)"
      ],
      "metadata": {
        "id": "gBeE0I2ULJy1"
      },
      "execution_count": null,
      "outputs": []
    },
    {
      "cell_type": "code",
      "source": [
        "from sklearn.linear_model import LinearRegression\n",
        "\n",
        "reg2= LinearRegression(copy_X=True).fit(crime_X,crime_y)\n",
        "np.count_nonzero(reg2.coef_)"
      ],
      "metadata": {
        "id": "RneWeMSNMQNb"
      },
      "execution_count": null,
      "outputs": []
    },
    {
      "cell_type": "code",
      "source": [
        "np.count_nonzero(four.coef_)"
      ],
      "metadata": {
        "id": "XASqK_JRKxyj"
      },
      "execution_count": null,
      "outputs": []
    },
    {
      "cell_type": "code",
      "source": [
        "from sklearn import linear_model\n",
        "clf3 = linear_model.Lasso(alpha=0.1)\n",
        "clf3.fit([[0,0], [1, 1], [2, 2]], [0, 1, 2])\n",
        "print(clf3.coef_)"
      ],
      "metadata": {
        "id": "rAWUwuvNORjy"
      },
      "execution_count": null,
      "outputs": []
    },
    {
      "cell_type": "code",
      "source": [
        "h = np.array([[0,0], [1, 1], [2, 2]])\n",
        "h\n",
        "b = np.zeros(2)\n",
        "u = np.array([0, 1, 2])\n",
        "h"
      ],
      "metadata": {
        "id": "sXfRYy6HOsiC"
      },
      "execution_count": null,
      "outputs": []
    },
    {
      "cell_type": "code",
      "source": [
        "lasso_solver(h, u,b,0.1,1)"
      ],
      "metadata": {
        "id": "pZHPYOcVOc9C"
      },
      "execution_count": null,
      "outputs": []
    },
    {
      "cell_type": "code",
      "source": [],
      "metadata": {
        "id": "vmBarQIdOWJi"
      },
      "execution_count": null,
      "outputs": []
    }
  ]
}